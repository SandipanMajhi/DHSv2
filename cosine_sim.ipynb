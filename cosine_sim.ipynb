{
 "cells": [
  {
   "cell_type": "code",
   "execution_count": 20,
   "metadata": {},
   "outputs": [],
   "source": [
    "import pandas as pd\n",
    "import os\n",
    "from constants import *\n",
    "from tqdm import tqdm\n",
    "import json\n",
    "\n",
    "from langchain_groq import ChatGroq\n",
    "from langchain.prompts import PromptTemplate\n",
    "from langchain_core.output_parsers import StrOutputParser"
   ]
  },
  {
   "cell_type": "code",
   "execution_count": 21,
   "metadata": {},
   "outputs": [],
   "source": [
    "df = pd.read_excel(\"./Data/2024_03_19_ocio_dhs-inventory-of-ai-use-cases.xlsx\", engine='openpyxl')"
   ]
  },
  {
   "cell_type": "code",
   "execution_count": 27,
   "metadata": {},
   "outputs": [],
   "source": [
    "with open(\"outputv1.json\", \"r\") as fp:\n",
    "    data_risks = json.load(fp)"
   ]
  },
  {
   "cell_type": "code",
   "execution_count": 28,
   "metadata": {},
   "outputs": [
    {
     "name": "stderr",
     "output_type": "stream",
     "text": [
      "100%|██████████| 58/58 [00:05<00:00,  9.71it/s]\n",
      "100%|██████████| 58/58 [00:06<00:00,  9.63it/s]\n"
     ]
    }
   ],
   "source": [
    "for i in range(len(risk_classes)):\n",
    "    for j in tqdm(range(df.shape[0])):\n",
    "        data_risks[risk_classes[i]][j][f\"cosine_{risk_classes[i]}_score\"] = query({\n",
    "                                                                        \"inputs\":{\n",
    "                                                                            \"source_sentence\" : data_risks[risk_classes[i]][j]['positive_definition'],\n",
    "                                                                            \"sentences\" : [\n",
    "                                                                                df['Summary of Use Case'][j]\n",
    "                                                                            ]\n",
    "                                                                        }\n",
    "                                                                })[0]"
   ]
  },
  {
   "cell_type": "code",
   "execution_count": 29,
   "metadata": {},
   "outputs": [],
   "source": [
    "output = query({\n",
    "\t\"inputs\": {\n",
    "\t\t\"source_sentence\": \"That is a happy person\",\n",
    "\t\t\"sentences\": [\n",
    "\t\t\t\"That is a happy dog\",\n",
    "\t\t\t\"That is a very happy person\",\n",
    "\t\t\t\"Today is a sunny day\"\n",
    "\t\t]\n",
    "\t},\n",
    "})"
   ]
  },
  {
   "cell_type": "code",
   "execution_count": 30,
   "metadata": {},
   "outputs": [
    {
     "data": {
      "text/plain": [
       "[0.6507517099380493, 0.9667371511459351, 0.4509974718093872]"
      ]
     },
     "execution_count": 30,
     "metadata": {},
     "output_type": "execute_result"
    }
   ],
   "source": [
    "output"
   ]
  },
  {
   "cell_type": "code",
   "execution_count": 31,
   "metadata": {},
   "outputs": [],
   "source": [
    "with open(\"outputsv1.5_cosinescore.json\", \"w\") as fp:\n",
    "    json.dump(data_risks, fp, indent = 4)"
   ]
  },
  {
   "cell_type": "code",
   "execution_count": null,
   "metadata": {},
   "outputs": [],
   "source": []
  }
 ],
 "metadata": {
  "kernelspec": {
   "display_name": "DHSv2",
   "language": "python",
   "name": "python3"
  },
  "language_info": {
   "codemirror_mode": {
    "name": "ipython",
    "version": 3
   },
   "file_extension": ".py",
   "mimetype": "text/x-python",
   "name": "python",
   "nbconvert_exporter": "python",
   "pygments_lexer": "ipython3",
   "version": "3.12.2"
  }
 },
 "nbformat": 4,
 "nbformat_minor": 2
}
